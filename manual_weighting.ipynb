{
 "cells": [
  {
   "cell_type": "code",
   "execution_count": 6,
   "id": "b670d370-abda-4451-b231-d5be565a88dd",
   "metadata": {},
   "outputs": [],
   "source": [
    "import numpy as np\n",
    "import scipy as sp\n",
    "import matplotlib.pyplot as plt\n",
    "#import nuflux\n",
    "import pandas as pd\n",
    "import imageio\n",
    "import uproot\n",
    "import itertools\n",
    "import SNeATLAS\n",
    "from varname import nameof"
   ]
  },
  {
   "cell_type": "markdown",
   "id": "41edef6c-38d6-4926-b0db-abdbe8815f86",
   "metadata": {},
   "source": [
    "### Set up some necessary distributions and get necessary variables for manual weighting\n",
    "\n",
    "Conditions: \n",
    "- rock, density is 2.6 g/cm3\n",
    "- muon nu only, CC interaction"
   ]
  },
  {
   "cell_type": "code",
   "execution_count": 7,
   "id": "53a0d943-5f1f-402b-b9a7-32c9610e9696",
   "metadata": {},
   "outputs": [],
   "source": [
    "rock_density = 2.6 #g/cm3"
   ]
  },
  {
   "cell_type": "code",
   "execution_count": 101,
   "id": "23a278a8-8266-4b6a-81cc-95d8778a95ec",
   "metadata": {},
   "outputs": [],
   "source": [
    "da = 0.212 / 1.2\n",
    "db = (0.251e-3)/1.2\n",
    "NA = 6.022e23\n",
    "\n",
    "def max_col_len_mu(energy): #this is in CM!!!\n",
    "    return (1/db)*np.log(1+energy*(db/da)) / rock_density * 100\n",
    "\n",
    "CS = SNeATLAS.make_crossSections()\n",
    "#CS.get_cs_nu_mu_cc_iso(energy)\n",
    "\n",
    "SNe_2n_D1_0_s20 = SNeATLAS.make_SNeEvent(detMass=4e6,\n",
    "                    flux_filename='ModelTemplates/SNHEMM/IIn/FinalFluxs20.dat')\n",
    "SNe = SNe_2n_D1_0_s20\n",
    "TIdN = SNe.get_timeIntegrated_dN_neutrino_dE_timerange(1e7) * (1/(4*np.pi*3.08567758128e20**2)) * (1/6) #custom time range!\n",
    "energy_array = SNe.Energy_array[0]\n",
    "\n",
    "total_events = SNeATLAS.integrate_logspace(energy_array, TIdN, 1e2, 1e6)[0] #units of 1/m2 (so it's total events per unit area)"
   ]
  },
  {
   "cell_type": "code",
   "execution_count": 20,
   "id": "9c53dcc4-4740-4bac-9c22-44a4b9ab9248",
   "metadata": {},
   "outputs": [],
   "source": [
    "def p_interaction(nsigma, energy): \n",
    "    return 1-np.exp(-nsigma * max_col_len_mu(energy) )\n",
    "\n",
    "def p_depth(l, nsigma, energy): \n",
    "    function = np.exp(-nsigma * l )\n",
    "    normalization = nsigma / p_interaction(nsigma, energy)\n",
    "    return function*normalization"
   ]
  },
  {
   "cell_type": "markdown",
   "id": "bee02939-005e-4c3d-bee7-f239ef0e7adf",
   "metadata": {},
   "source": [
    "### Walk-through for single Example"
   ]
  },
  {
   "cell_type": "code",
   "execution_count": 102,
   "id": "10cd3b82-6b0a-4264-9dd8-3e49d5466d7d",
   "metadata": {},
   "outputs": [
    {
     "name": "stdout",
     "output_type": "stream",
     "text": [
      "col length: 360998.19612722035 cm\n"
     ]
    }
   ],
   "source": [
    "sample_energy = 10000\n",
    "col_length = np.random.rand() *  max_col_len_mu(sample_energy)\n",
    "print(\"col length: \" + str(col_length) + \" cm\")"
   ]
  },
  {
   "cell_type": "code",
   "execution_count": 88,
   "id": "9375d7fa-4122-4a4e-9bd9-10ec9483d939",
   "metadata": {},
   "outputs": [],
   "source": [
    "nsigma = rock_density * NA * CS.get_cs_nu_mu_cc_iso(sample_energy)"
   ]
  },
  {
   "cell_type": "code",
   "execution_count": 89,
   "id": "43e1d168-d959-4a61-b037-30aa71db3b11",
   "metadata": {},
   "outputs": [
    {
     "data": {
      "text/plain": [
       "3.396432354463297e-05"
      ]
     },
     "execution_count": 89,
     "metadata": {},
     "output_type": "execute_result"
    }
   ],
   "source": [
    "p_interaction(nsigma, sample_energy)"
   ]
  },
  {
   "cell_type": "code",
   "execution_count": 90,
   "id": "6acc95b2-5bc7-45a6-9d05-f3236cc539af",
   "metadata": {},
   "outputs": [
    {
     "data": {
      "text/plain": [
       "2.130590793867877e-06"
      ]
     },
     "execution_count": 90,
     "metadata": {},
     "output_type": "execute_result"
    }
   ],
   "source": [
    "p_depth(col_length, nsigma, sample_energy)"
   ]
  },
  {
   "cell_type": "code",
   "execution_count": 178,
   "id": "0a9b4cab-8278-460a-8198-972eb8f36358",
   "metadata": {},
   "outputs": [],
   "source": [
    "def weight_manual(energy):\n",
    "\n",
    "    outstanding_gen_probs = (1/(np.pi*50**2)) * 100000 #conditions from the MC generation\n",
    "    # injection radius 50 m, number of injected events\n",
    "    outstanding_phys_probs = p_interaction(nsigma, energy) * (total_events)\n",
    "\n",
    "    weight = outstanding_phys_probs / outstanding_gen_probs\n",
    "    return weight"
   ]
  },
  {
   "cell_type": "markdown",
   "id": "74a15aaf-37de-46c0-88ee-72bb4f050a33",
   "metadata": {},
   "source": [
    "### Comparison with leptoninjector MC\n",
    "\n",
    "Get the weights from the already propagated and weigted muons. Take those same positions, etc. and calculate the manual weights"
   ]
  },
  {
   "cell_type": "code",
   "execution_count": 179,
   "id": "e217bfb5-0def-4412-a697-1a885fc9920e",
   "metadata": {},
   "outputs": [],
   "source": [
    "names = ['Enu','Ex','El','Plx','Ply','Plz','vtx_x','vtx_y','vtx_z','w']\n",
    "LI_outputdf = pd.read_csv('LI_outputs/LInjection_10kpc_SNe_2n_D1_0_s20_NuMu.csv', sep=' ', comment='#', names=names)\n",
    "LI_output_Enu = np.asarray(LI_outputdf['Enu'])\n",
    "LI_output_weights = np.asarray(LI_outputdf['w'])"
   ]
  },
  {
   "cell_type": "code",
   "execution_count": 180,
   "id": "c1bafd0a-e6b2-485b-908e-e11e9a950368",
   "metadata": {},
   "outputs": [],
   "source": [
    "manual_weights = weight_manual(LI_output_Enu)"
   ]
  },
  {
   "cell_type": "code",
   "execution_count": 181,
   "id": "0fe2098d-9af1-4f65-858c-5dea618763cc",
   "metadata": {},
   "outputs": [
    {
     "data": {
      "text/plain": [
       "<matplotlib.legend.Legend at 0x12e91a8f0>"
      ]
     },
     "execution_count": 181,
     "metadata": {},
     "output_type": "execute_result"
    },
    {
     "data": {
      "image/png": "[encoded data removed]",
      "text/plain": [
       "<Figure size 1000x720 with 1 Axes>"
      ]
     },
     "metadata": {},
     "output_type": "display_data"
    }
   ],
   "source": [
    "plt.rcParams['text.usetex'] = True\n",
    "fig = plt.figure(figsize=(5, 3.6), dpi=200)\n",
    "\n",
    "#bins = np.logspace(np.log10(1e-2), np.log10(1e6), 50)\n",
    "bins = np.linspace(0, 10, 50)\n",
    "plt.hist(LI_output_weights, bins=bins, fill=False, histtype='step', label='LeptonInjector Output')\n",
    "plt.hist(manual_weights, bins=bins, fill=False, histtype='step', label='manual calculation')\n",
    "#plt.ylim(0,600)\n",
    "plt.xlabel('weight')\n",
    "plt.title('Distribution of weights')\n",
    "#plt.xscale('log')\n",
    "#plt.yscale('log')\n",
    "#plt.ylim(0, 10)\n",
    "plt.legend()"
   ]
  },
  {
   "cell_type": "code",
   "execution_count": 189,
   "id": "74a8f8fc-3674-40c0-b722-c29c2fa624a6",
   "metadata": {},
   "outputs": [
    {
     "data": {
      "text/plain": [
       "(-1.0, 10.0)"
      ]
     },
     "execution_count": 189,
     "metadata": {},
     "output_type": "execute_result"
    },
    {
     "data": {
      "image/png": "[encoded data removed]",
      "text/plain": [
       "<Figure size 1000x720 with 1 Axes>"
      ]
     },
     "metadata": {},
     "output_type": "display_data"
    }
   ],
   "source": [
    "plt.rcParams['text.usetex'] = True\n",
    "fig = plt.figure(figsize=(5, 3.6), dpi=200)\n",
    "\n",
    "plt.scatter(LI_output_Enu, LI_output_weights, marker='.', s=1)\n",
    "plt.scatter(LI_output_Enu, manual_weights, marker='.', s=1)\n",
    "plt.xscale('log')\n",
    "plt.xlabel('energy (GeV)')\n",
    "plt.ylabel('weight')\n",
    "plt.ylim(-1,10)"
   ]
  }
 ],
 "metadata": {
  "kernelspec": {
   "display_name": "Python 3 (ipykernel)",
   "language": "python",
   "name": "python3"
  },
  "language_info": {
   "codemirror_mode": {
    "name": "ipython",
    "version": 3
   },
   "file_extension": ".py",
   "mimetype": "text/x-python",
   "name": "python",
   "nbconvert_exporter": "python",
   "pygments_lexer": "ipython3",
   "version": "3.10.8"
  }
 },
 "nbformat": 4,
 "nbformat_minor": 5
}
